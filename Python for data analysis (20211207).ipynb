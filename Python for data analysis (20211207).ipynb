{
 "cells": [
  {
   "cell_type": "code",
   "execution_count": 1,
   "id": "3603fd65",
   "metadata": {},
   "outputs": [
    {
     "name": "stdout",
     "output_type": "stream",
     "text": [
      "Hello python world!\n"
     ]
    }
   ],
   "source": [
    "print(\"Hello python world!\")\n",
    "#shift + enter"
   ]
  },
  {
   "cell_type": "code",
   "execution_count": 2,
   "id": "0aeddfe1",
   "metadata": {},
   "outputs": [],
   "source": [
    "an_apple = 27"
   ]
  },
  {
   "cell_type": "code",
   "execution_count": 3,
   "id": "30751e17",
   "metadata": {},
   "outputs": [],
   "source": [
    "an_example = 28"
   ]
  },
  {
   "cell_type": "code",
   "execution_count": 4,
   "id": "2ee63203",
   "metadata": {},
   "outputs": [],
   "source": [
    "b = [1, 2, 3]"
   ]
  },
  {
   "cell_type": "code",
   "execution_count": 5,
   "id": "f544d1bb",
   "metadata": {},
   "outputs": [],
   "source": [
    "import datetime"
   ]
  },
  {
   "cell_type": "code",
   "execution_count": 6,
   "id": "210edf84",
   "metadata": {},
   "outputs": [],
   "source": [
    "def func_with(abra = 1, abbra = 2, abbbra = 3):\n",
    "    return abra, abbra, abbbra"
   ]
  },
  {
   "cell_type": "code",
   "execution_count": 9,
   "id": "8da4fab9",
   "metadata": {},
   "outputs": [
    {
     "data": {
      "text/plain": [
       "(1, 2, 3)"
      ]
     },
     "execution_count": 9,
     "metadata": {},
     "output_type": "execute_result"
    }
   ],
   "source": [
    "func_with(abra = 1, abbra = 2, abbbra = 3)"
   ]
  },
  {
   "cell_type": "code",
   "execution_count": 10,
   "id": "a544d4bd",
   "metadata": {},
   "outputs": [],
   "source": [
    "b = [1, 2, 3]"
   ]
  },
  {
   "cell_type": "code",
   "execution_count": 11,
   "id": "768293cc",
   "metadata": {},
   "outputs": [],
   "source": [
    "b?"
   ]
  },
  {
   "cell_type": "code",
   "execution_count": 12,
   "id": "eac0b01f",
   "metadata": {},
   "outputs": [],
   "source": [
    "print?"
   ]
  },
  {
   "cell_type": "code",
   "execution_count": 13,
   "id": "6a5d7448",
   "metadata": {},
   "outputs": [],
   "source": [
    "def add_numbers(a, b):\n",
    "    \"\"\"\n",
    "    Add two numbers together\n",
    "    Returns\n",
    "    ___________\n",
    "    \n",
    "    the_sum : type of arguments\n",
    "    \n",
    "    \"\"\"\n",
    "    return a + b"
   ]
  },
  {
   "cell_type": "code",
   "execution_count": 14,
   "id": "85c12589",
   "metadata": {},
   "outputs": [],
   "source": [
    "add_numbers?"
   ]
  },
  {
   "cell_type": "code",
   "execution_count": 15,
   "id": "c486218f",
   "metadata": {},
   "outputs": [],
   "source": [
    "import numpy as np\n",
    "np.*load*?"
   ]
  },
  {
   "cell_type": "code",
   "execution_count": 21,
   "id": "08f1da6d",
   "metadata": {},
   "outputs": [
    {
     "name": "stdout",
     "output_type": "stream",
     "text": [
      "Languages:\n",
      "\tPython\n",
      "\tC\n",
      "\tJavaScript\n"
     ]
    }
   ],
   "source": [
    "%run /Users/apple/python_work/try1.py"
   ]
  },
  {
   "cell_type": "code",
   "execution_count": null,
   "id": "430a3c73",
   "metadata": {},
   "outputs": [],
   "source": [
    "# %load /Users/apple/python_work/try1.py\n",
    "print(\"Languages:\\n\\tPython\\n\\tC\\n\\tJavaScript\")"
   ]
  },
  {
   "cell_type": "code",
   "execution_count": 1,
   "id": "507fa0ad",
   "metadata": {},
   "outputs": [],
   "source": [
    "x = 5\n",
    "y = 7\n",
    "if x > 5:\n",
    "    x += 1\n",
    "    \n",
    "    y = 8\n",
    "    \n",
    "#--传入文本的结尾--"
   ]
  },
  {
   "cell_type": "code",
   "execution_count": 2,
   "id": "73d1881d",
   "metadata": {},
   "outputs": [
    {
     "name": "stderr",
     "output_type": "stream",
     "text": [
      "UsageError: Line magic function `%cpaste` not found.\n"
     ]
    }
   ],
   "source": [
    "\n",
    "%cpaste"
   ]
  },
  {
   "cell_type": "code",
   "execution_count": 5,
   "id": "dfc4ba0c",
   "metadata": {},
   "outputs": [
    {
     "name": "stdout",
     "output_type": "stream",
     "text": [
      "[[ 1.46752144  1.4857865   0.47630553 ...  1.37394591 -1.11661753\n",
      "   0.22000214]\n",
      " [-0.92649096  0.05180416 -0.09343491 ... -0.63006378  1.13084526\n",
      "  -0.06526127]\n",
      " [-0.51032469 -0.47249349 -0.6206726  ...  0.51150888  1.19438788\n",
      "  -0.06269405]\n",
      " ...\n",
      " [-0.09239592  0.68163534 -0.11430447 ... -1.1415597  -2.30296065\n",
      "   0.44984534]\n",
      " [-0.3011653  -0.0481725   0.10822608 ...  1.23893638  0.27422168\n",
      "  -1.82957583]\n",
      " [-0.36141017  0.5394325  -0.51176902 ...  0.75130967  1.03763735\n",
      "  -0.59403696]]\n",
      "100\n"
     ]
    }
   ],
   "source": [
    "import numpy as np\n",
    "a = np.random.randn(100, 100)\n",
    "print(a)\n",
    "print(len(a))"
   ]
  },
  {
   "cell_type": "code",
   "execution_count": 7,
   "id": "e078b2ad",
   "metadata": {},
   "outputs": [
    {
     "name": "stdout",
     "output_type": "stream",
     "text": [
      "24 µs ± 1.4 µs per loop (mean ± std. dev. of 7 runs, 10000 loops each)\n"
     ]
    }
   ],
   "source": [
    "%timeit np.dot(a, a)"
   ]
  },
  {
   "cell_type": "code",
   "execution_count": 8,
   "id": "f64f7435",
   "metadata": {},
   "outputs": [
    {
     "data": {
      "text/plain": [
       "'/Users/apple'"
      ]
     },
     "execution_count": 8,
     "metadata": {},
     "output_type": "execute_result"
    }
   ],
   "source": [
    "%pwd"
   ]
  },
  {
   "cell_type": "code",
   "execution_count": 9,
   "id": "83032df4",
   "metadata": {},
   "outputs": [],
   "source": [
    "foo = %pwd"
   ]
  },
  {
   "cell_type": "code",
   "execution_count": 10,
   "id": "f53f6278",
   "metadata": {},
   "outputs": [
    {
     "data": {
      "text/plain": [
       "'/Users/apple'"
      ]
     },
     "execution_count": 10,
     "metadata": {},
     "output_type": "execute_result"
    }
   ],
   "source": [
    "foo"
   ]
  },
  {
   "cell_type": "code",
   "execution_count": 11,
   "id": "bde90a78",
   "metadata": {},
   "outputs": [],
   "source": [
    "%quickref"
   ]
  },
  {
   "cell_type": "code",
   "execution_count": 12,
   "id": "0c3dc666",
   "metadata": {},
   "outputs": [],
   "source": [
    "%matplotlib inline"
   ]
  },
  {
   "cell_type": "code",
   "execution_count": 14,
   "id": "35094bbd",
   "metadata": {},
   "outputs": [
    {
     "data": {
      "text/plain": [
       "[<matplotlib.lines.Line2D at 0x7fd1c08c77f0>]"
      ]
     },
     "execution_count": 14,
     "metadata": {},
     "output_type": "execute_result"
    },
    {
     "data": {
      "image/png": "[encoded data removed]",
      "text/plain": [
       "<Figure size 1280x768 with 1 Axes>"
      ]
     },
     "metadata": {
      "needs_background": "light"
     },
     "output_type": "display_data"
    }
   ],
   "source": [
    "from matplotlib import pyplot as plt\n",
    "import numpy as np\n",
    "\n",
    "fig = plt.figure(dpi = 128, figsize = (10,6))\n",
    "plt.plot(np.random.randn(50,50).cumsum())"
   ]
  },
  {
   "cell_type": "code",
   "execution_count": 17,
   "id": "3d487eb0",
   "metadata": {},
   "outputs": [
    {
     "name": "stdout",
     "output_type": "stream",
     "text": [
      "5000050000\n"
     ]
    }
   ],
   "source": [
    "import numpy as np\n",
    "iis = [ii for ii in range(100001)]\n",
    "sum_100000 = np.cumsum(iis)[-1]\n",
    "print(sum_100000)"
   ]
  },
  {
   "cell_type": "code",
   "execution_count": 21,
   "id": "d8597f14",
   "metadata": {},
   "outputs": [
    {
     "data": {
      "text/plain": [
       "array([ 1,  3,  6, 10, 15, 21])"
      ]
     },
     "execution_count": 21,
     "metadata": {},
     "output_type": "execute_result"
    }
   ],
   "source": [
    "import numpy as np\n",
    "a = [[1,2,3],[4,5,6]]\n",
    "np.cumsum(a)\n",
    "#np.cumsum(a, axis = 0)\n",
    "#np.cumsum(a, axis = 1)"
   ]
  },
  {
   "cell_type": "code",
   "execution_count": 20,
   "id": "ce0cd91d",
   "metadata": {},
   "outputs": [
    {
     "data": {
      "text/plain": [
       "array([[-1.05074438, -1.07530941, -0.18117335, ...,  0.67423991,\n",
       "        -1.44260397, -1.0264723 ],\n",
       "       [ 0.76677343,  0.63739257, -0.46205469, ...,  0.53379094,\n",
       "        -1.14843879, -1.69762042],\n",
       "       [-0.7344883 , -1.64549257,  0.93970699, ...,  0.6133219 ,\n",
       "         1.18783929, -1.23193288],\n",
       "       ...,\n",
       "       [ 0.49629976,  1.54344878, -2.54393383, ..., -0.08467649,\n",
       "        -1.4972955 ,  0.0408572 ],\n",
       "       [-0.4879529 , -1.65996216, -1.81033112, ...,  0.71974292,\n",
       "         1.60668944,  0.23905182],\n",
       "       [-0.83567444, -0.19861303,  0.04546813, ..., -1.41680724,\n",
       "         0.4609934 ,  0.19712252]])"
      ]
     },
     "execution_count": 20,
     "metadata": {},
     "output_type": "execute_result"
    }
   ],
   "source": [
    "import numpy as np\n",
    "np.random.randn(50,50)"
   ]
  },
  {
   "cell_type": "code",
   "execution_count": 1,
   "id": "061dcab5",
   "metadata": {},
   "outputs": [
    {
     "data": {
      "application/javascript": [
       "\n",
       "// apply setting to all current CodeMirror instances\n",
       "IPython.notebook.get_cells().map(\n",
       "    function(c) {  return c.code_mirror.options.indentWithTabs=true;  }\n",
       ");\n",
       "// make sure new CodeMirror instances created in the future also use this setting\n",
       "CodeMirror.defaults.indentWithTabs=true;\n",
       "//确保将来创建的新CodeMirror实例也使用此设置\n",
       "CodeMirror.defaults.indentWithTabs=true;\n"
      ],
      "text/plain": [
       "<IPython.core.display.Javascript object>"
      ]
     },
     "metadata": {},
     "output_type": "display_data"
    }
   ],
   "source": [
    "%%javascript\n",
    "\n",
    "// apply setting to all current CodeMirror instances\n",
    "IPython.notebook.get_cells().map(\n",
    "    function(c) {  return c.code_mirror.options.indentWithTabs=true;  }\n",
    ");\n",
    "// make sure new CodeMirror instances created in the future also use this setting\n",
    "CodeMirror.defaults.indentWithTabs=true;\n",
    "//确保将来创建的新CodeMirror实例也使用此设置\n",
    "CodeMirror.defaults.indentWithTabs=true;"
   ]
  },
  {
   "cell_type": "code",
   "execution_count": 3,
   "id": "148403c1",
   "metadata": {},
   "outputs": [
    {
     "name": "stdout",
     "output_type": "stream",
     "text": [
      "0\n",
      "1\n",
      "2\n",
      "3\n",
      "4\n",
      "5\n",
      "6\n",
      "7\n",
      "8\n",
      "9\n",
      "10\n"
     ]
    }
   ],
   "source": [
    "for i in range(11):\n",
    "\tprint (i)"
   ]
  },
  {
   "cell_type": "code",
   "execution_count": 7,
   "id": "b3256c93",
   "metadata": {},
   "outputs": [
    {
     "data": {
      "text/plain": [
       "[1, 2, 3, 4, 5, 1000]"
      ]
     },
     "execution_count": 7,
     "metadata": {},
     "output_type": "execute_result"
    }
   ],
   "source": [
    "def append_element(some_lists, element):\n",
    "    some_lists.append(element)\n",
    "    return some_lists\n",
    "\n",
    "some_lists = [1, 2, 3, 4 ,5]\n",
    "element = 1000\n",
    "append_element(some_lists, element)"
   ]
  },
  {
   "cell_type": "code",
   "execution_count": 8,
   "id": "1b09d916",
   "metadata": {},
   "outputs": [
    {
     "data": {
      "text/plain": [
       "int"
      ]
     },
     "execution_count": 8,
     "metadata": {},
     "output_type": "execute_result"
    }
   ],
   "source": [
    "a = 5\n",
    "type(a)"
   ]
  },
  {
   "cell_type": "code",
   "execution_count": 9,
   "id": "4989e730",
   "metadata": {},
   "outputs": [
    {
     "data": {
      "text/plain": [
       "str"
      ]
     },
     "execution_count": 9,
     "metadata": {},
     "output_type": "execute_result"
    }
   ],
   "source": [
    "a = '5'\n",
    "type(a)"
   ]
  },
  {
   "cell_type": "code",
   "execution_count": 11,
   "id": "5556952b",
   "metadata": {},
   "outputs": [
    {
     "data": {
      "text/plain": [
       "'55'"
      ]
     },
     "execution_count": 11,
     "metadata": {},
     "output_type": "execute_result"
    }
   ],
   "source": [
    "\"5\" + \"5\""
   ]
  },
  {
   "cell_type": "code",
   "execution_count": 12,
   "id": "6f91daba",
   "metadata": {},
   "outputs": [
    {
     "name": "stdout",
     "output_type": "stream",
     "text": [
      "a is 2, b is 3\n"
     ]
    }
   ],
   "source": [
    "print(\"a is {}, b is {}\".format(2, 3))"
   ]
  },
  {
   "cell_type": "code",
   "execution_count": 16,
   "id": "1b623a4f",
   "metadata": {
    "scrolled": true
   },
   "outputs": [
    {
     "ename": "NameError",
     "evalue": "name 'b' is not defined",
     "output_type": "error",
     "traceback": [
      "\u001b[0;31m---------------------------------------------------------------------------\u001b[0m",
      "\u001b[0;31mNameError\u001b[0m                                 Traceback (most recent call last)",
      "\u001b[0;32m<ipython-input-16-fc85ae8837b9>\u001b[0m in \u001b[0;36m<module>\u001b[0;34m\u001b[0m\n\u001b[0;32m----> 1\u001b[0;31m \u001b[0mprint\u001b[0m\u001b[0;34m(\u001b[0m\u001b[0;34m\"a is {2}, b is {3}\"\u001b[0m\u001b[0;34m.\u001b[0m\u001b[0mformat\u001b[0m\u001b[0;34m(\u001b[0m\u001b[0mtype\u001b[0m\u001b[0;34m(\u001b[0m\u001b[0ma\u001b[0m\u001b[0;34m)\u001b[0m\u001b[0;34m,\u001b[0m \u001b[0mtype\u001b[0m\u001b[0;34m(\u001b[0m\u001b[0mb\u001b[0m\u001b[0;34m)\u001b[0m\u001b[0;34m)\u001b[0m\u001b[0;34m)\u001b[0m\u001b[0;34m\u001b[0m\u001b[0;34m\u001b[0m\u001b[0m\n\u001b[0m",
      "\u001b[0;31mNameError\u001b[0m: name 'b' is not defined"
     ]
    }
   ],
   "source": [
    "print(\"a is {2}, b is {3}\".format(type(a), type(b)))"
   ]
  },
  {
   "cell_type": "code",
   "execution_count": 19,
   "id": "cae56475",
   "metadata": {},
   "outputs": [
    {
     "data": {
      "text/plain": [
       "'xiao huang is 21'"
      ]
     },
     "execution_count": 19,
     "metadata": {},
     "output_type": "execute_result"
    }
   ],
   "source": [
    "\"xiao huang is {!s}\".format(21)"
   ]
  },
  {
   "cell_type": "code",
   "execution_count": 21,
   "id": "d9cbbd08",
   "metadata": {},
   "outputs": [
    {
     "name": "stdout",
     "output_type": "stream",
     "text": [
      "b,a,c\n"
     ]
    }
   ],
   "source": [
    "print(\"{1},{0},{2}\".format(\"a\", \"b\", \"c\", \"d\"))"
   ]
  },
  {
   "cell_type": "code",
   "execution_count": 24,
   "id": "22eb862c",
   "metadata": {},
   "outputs": [
    {
     "name": "stdout",
     "output_type": "stream",
     "text": [
      "xiao huang is the best!  \n"
     ]
    }
   ],
   "source": [
    "print(\"xiao huang is {!s} \".format(\"the best! \"))"
   ]
  },
  {
   "cell_type": "code",
   "execution_count": 25,
   "id": "12d1a2fc",
   "metadata": {},
   "outputs": [
    {
     "data": {
      "text/plain": [
       "True"
      ]
     },
     "execution_count": 25,
     "metadata": {},
     "output_type": "execute_result"
    }
   ],
   "source": [
    "a = 5\n",
    "isinstance(a, int)"
   ]
  },
  {
   "cell_type": "code",
   "execution_count": 29,
   "id": "2c7cb91a",
   "metadata": {},
   "outputs": [
    {
     "name": "stdout",
     "output_type": "stream",
     "text": [
      "True\n",
      "False\n"
     ]
    }
   ],
   "source": [
    "a = 5 ; b = 4.5\n",
    "print(isinstance(a,(int, float)))\n",
    "print(isinstance(b, (int, str)))"
   ]
  },
  {
   "cell_type": "code",
   "execution_count": 32,
   "id": "a6359196",
   "metadata": {},
   "outputs": [
    {
     "name": "stdout",
     "output_type": "stream",
     "text": [
      "foo\n",
      "['foo']\n"
     ]
    }
   ],
   "source": [
    "a = ' foo '\n",
    "print(a.strip())\n",
    "print(a.split())"
   ]
  },
  {
   "cell_type": "code",
   "execution_count": 41,
   "id": "2fac653d",
   "metadata": {},
   "outputs": [
    {
     "name": "stdout",
     "output_type": "stream",
     "text": [
      "1\n"
     ]
    }
   ],
   "source": [
    "lst = [1]\n",
    "\n",
    "for i in iter(lst):\n",
    "    print (i)"
   ]
  },
  {
   "cell_type": "code",
   "execution_count": 43,
   "id": "0508410e",
   "metadata": {},
   "outputs": [
    {
     "data": {
      "text/plain": [
       "True"
      ]
     },
     "execution_count": 43,
     "metadata": {},
     "output_type": "execute_result"
    }
   ],
   "source": [
    "def isterable(obj):\n",
    "    try:\n",
    "        iter(obj)\n",
    "    \n",
    "    except TypeError:\n",
    "        return False\n",
    "    \n",
    "    else:\n",
    "        return True\n",
    "    \n",
    "obj = [1]\n",
    "isterable(obj)"
   ]
  },
  {
   "cell_type": "code",
   "execution_count": 44,
   "id": "22ee789d",
   "metadata": {},
   "outputs": [
    {
     "data": {
      "text/plain": [
       "True"
      ]
     },
     "execution_count": 44,
     "metadata": {},
     "output_type": "execute_result"
    }
   ],
   "source": [
    "isterable(\"hello python world!\")"
   ]
  },
  {
   "cell_type": "code",
   "execution_count": 54,
   "id": "b74c9ea9",
   "metadata": {},
   "outputs": [
    {
     "name": "stdout",
     "output_type": "stream",
     "text": [
      "['5']\n"
     ]
    }
   ],
   "source": [
    "obj = \"5\"\n",
    "obj = list(obj)\n",
    "print(obj)\n",
    "\n"
   ]
  },
  {
   "cell_type": "code",
   "execution_count": 3,
   "id": "2c619633",
   "metadata": {},
   "outputs": [
    {
     "name": "stdout",
     "output_type": "stream",
     "text": [
      "6 7 3.14159\n"
     ]
    }
   ],
   "source": [
    "import some_module\n",
    "\n",
    "result = some_module.f(5)\n",
    "x = some_module.get(3, 4)\n",
    "pi = some_module.PI\n",
    "print(result, x, pi)    "
   ]
  },
  {
   "cell_type": "code",
   "execution_count": 9,
   "id": "5d3929a9",
   "metadata": {},
   "outputs": [
    {
     "data": {
      "text/plain": [
       "True"
      ]
     },
     "execution_count": 9,
     "metadata": {},
     "output_type": "execute_result"
    }
   ],
   "source": [
    "a = [1, 2, 3]\n",
    "b = a\n",
    "c =list(a)\n",
    "c is not a #list 函数总是创建一个新的列表，即copy一份，所以我们认为 c is not a；但c == a "
   ]
  },
  {
   "cell_type": "code",
   "execution_count": 10,
   "id": "171d679b",
   "metadata": {},
   "outputs": [
    {
     "data": {
      "text/plain": [
       "True"
      ]
     },
     "execution_count": 10,
     "metadata": {},
     "output_type": "execute_result"
    }
   ],
   "source": [
    "c == a"
   ]
  },
  {
   "cell_type": "code",
   "execution_count": 11,
   "id": "5511f5f7",
   "metadata": {},
   "outputs": [
    {
     "data": {
      "text/plain": [
       "0.3333333333333333"
      ]
     },
     "execution_count": 11,
     "metadata": {},
     "output_type": "execute_result"
    }
   ],
   "source": [
    "1 / 3"
   ]
  },
  {
   "cell_type": "code",
   "execution_count": 12,
   "id": "452b473e",
   "metadata": {},
   "outputs": [
    {
     "data": {
      "text/plain": [
       "0"
      ]
     },
     "execution_count": 12,
     "metadata": {},
     "output_type": "execute_result"
    }
   ],
   "source": [
    "1 // 3 #整除"
   ]
  },
  {
   "cell_type": "code",
   "execution_count": 19,
   "id": "f469ae57",
   "metadata": {},
   "outputs": [
    {
     "data": {
      "text/plain": [
       "['foo', 3, 5]"
      ]
     },
     "execution_count": 19,
     "metadata": {},
     "output_type": "execute_result"
    }
   ],
   "source": [
    "a_list = ['foo', 3, 4]\n",
    "a_list[2] = 5\n",
    "a_list"
   ]
  },
  {
   "cell_type": "code",
   "execution_count": 1,
   "id": "491ad919",
   "metadata": {},
   "outputs": [
    {
     "data": {
      "text/plain": [
       "5"
      ]
     },
     "execution_count": 1,
     "metadata": {},
     "output_type": "execute_result"
    }
   ],
   "source": [
    "len((1, 2, 3, 4, 5))"
   ]
  },
  {
   "cell_type": "code",
   "execution_count": 2,
   "id": "980dc99d",
   "metadata": {},
   "outputs": [
    {
     "data": {
      "text/plain": [
       "tuple"
      ]
     },
     "execution_count": 2,
     "metadata": {},
     "output_type": "execute_result"
    }
   ],
   "source": [
    "a = (1,)\n",
    "type(a)"
   ]
  },
  {
   "cell_type": "code",
   "execution_count": 3,
   "id": "765ad44e",
   "metadata": {},
   "outputs": [
    {
     "data": {
      "text/plain": [
       "int"
      ]
     },
     "execution_count": 3,
     "metadata": {},
     "output_type": "execute_result"
    }
   ],
   "source": [
    "a = (1)\n",
    "type(a)"
   ]
  },
  {
   "cell_type": "code",
   "execution_count": 4,
   "id": "30e25bad",
   "metadata": {},
   "outputs": [
    {
     "data": {
      "text/plain": [
       "3540690653207465128671505280679681169"
      ]
     },
     "execution_count": 4,
     "metadata": {},
     "output_type": "execute_result"
    }
   ],
   "source": [
    "ival = 1234567\n",
    "ival ** 6"
   ]
  },
  {
   "cell_type": "code",
   "execution_count": 6,
   "id": "7458672a",
   "metadata": {},
   "outputs": [
    {
     "name": "stdout",
     "output_type": "stream",
     "text": [
      "2.0000162\n"
     ]
    }
   ],
   "source": [
    "fval = 1.62e-5\n",
    "a = 2\n",
    "c = fval + a\n",
    "print(c)"
   ]
  },
  {
   "cell_type": "code",
   "execution_count": 7,
   "id": "c3080ce4",
   "metadata": {},
   "outputs": [
    {
     "data": {
      "text/plain": [
       "200.0"
      ]
     },
     "execution_count": 7,
     "metadata": {},
     "output_type": "execute_result"
    }
   ],
   "source": [
    "2e+2"
   ]
  },
  {
   "cell_type": "code",
   "execution_count": 8,
   "id": "9ac65919",
   "metadata": {},
   "outputs": [
    {
     "data": {
      "text/plain": [
       "0.02"
      ]
     },
     "execution_count": 8,
     "metadata": {},
     "output_type": "execute_result"
    }
   ],
   "source": [
    "2e-2"
   ]
  },
  {
   "cell_type": "code",
   "execution_count": 11,
   "id": "d5c97696",
   "metadata": {},
   "outputs": [
    {
     "data": {
      "text/plain": [
       "6"
      ]
     },
     "execution_count": 11,
     "metadata": {},
     "output_type": "execute_result"
    }
   ],
   "source": [
    "c = \"\"\"\n",
    "This is a longer string\n",
    "that spans multiple lines\n",
    "\"\"\"\n",
    "c.count(\"\\n\")\n",
    "c.count(\"s\")"
   ]
  },
  {
   "cell_type": "code",
   "execution_count": 15,
   "id": "7375da2d",
   "metadata": {},
   "outputs": [
    {
     "data": {
      "text/plain": [
       "True"
      ]
     },
     "execution_count": 15,
     "metadata": {},
     "output_type": "execute_result"
    }
   ],
   "source": [
    "a = \"this is a string\"\n",
    "a[0] == \"t\"\n"
   ]
  },
  {
   "cell_type": "code",
   "execution_count": 16,
   "id": "1d60667d",
   "metadata": {},
   "outputs": [
    {
     "name": "stdout",
     "output_type": "stream",
     "text": [
      "this is a long string\n"
     ]
    }
   ],
   "source": [
    "b = a.replace(\"string\", \"long string\")\n",
    "print(b)"
   ]
  },
  {
   "cell_type": "code",
   "execution_count": 17,
   "id": "b4c242b1",
   "metadata": {},
   "outputs": [
    {
     "data": {
      "text/plain": [
       "'this is a string'"
      ]
     },
     "execution_count": 17,
     "metadata": {},
     "output_type": "execute_result"
    }
   ],
   "source": [
    "a"
   ]
  },
  {
   "cell_type": "code",
   "execution_count": 18,
   "id": "a95c714c",
   "metadata": {},
   "outputs": [
    {
     "data": {
      "text/plain": [
       "'5'"
      ]
     },
     "execution_count": 18,
     "metadata": {},
     "output_type": "execute_result"
    }
   ],
   "source": [
    "a = 5\n",
    "str(a)\n"
   ]
  },
  {
   "cell_type": "code",
   "execution_count": 19,
   "id": "db48521f",
   "metadata": {},
   "outputs": [
    {
     "data": {
      "text/plain": [
       "['p', 'y', 't', 'h', 'o', 'n']"
      ]
     },
     "execution_count": 19,
     "metadata": {},
     "output_type": "execute_result"
    }
   ],
   "source": [
    "s = 'python'\n",
    "list(s)"
   ]
  },
  {
   "cell_type": "code",
   "execution_count": 20,
   "id": "59f05519",
   "metadata": {},
   "outputs": [
    {
     "data": {
      "text/plain": [
       "'pyth'"
      ]
     },
     "execution_count": 20,
     "metadata": {},
     "output_type": "execute_result"
    }
   ],
   "source": [
    "s[:4]"
   ]
  },
  {
   "cell_type": "code",
   "execution_count": 5,
   "id": "649bd3f3",
   "metadata": {},
   "outputs": [
    {
     "data": {
      "text/plain": [
       "'4.57argentine are worth US$1'"
      ]
     },
     "execution_count": 5,
     "metadata": {},
     "output_type": "execute_result"
    }
   ],
   "source": [
    "template = '{0:.2f}{1:s} are worth US${2:d}'\n",
    "template.format(4.5678,\"argentine\",1)"
   ]
  },
  {
   "cell_type": "code",
   "execution_count": 7,
   "id": "e0364267",
   "metadata": {},
   "outputs": [
    {
     "data": {
      "text/plain": [
       "b'hello'"
      ]
     },
     "execution_count": 7,
     "metadata": {},
     "output_type": "execute_result"
    }
   ],
   "source": [
    "val = 'hello'\n",
    "val_utf8 = val.encode('utf-8')\n",
    "val_utf8"
   ]
  },
  {
   "cell_type": "code",
   "execution_count": 8,
   "id": "f93c0590",
   "metadata": {},
   "outputs": [
    {
     "data": {
      "text/plain": [
       "bytes"
      ]
     },
     "execution_count": 8,
     "metadata": {},
     "output_type": "execute_result"
    }
   ],
   "source": [
    "type(val_utf8)"
   ]
  },
  {
   "cell_type": "code",
   "execution_count": 9,
   "id": "c849a322",
   "metadata": {},
   "outputs": [
    {
     "data": {
      "text/plain": [
       "b'hello'"
      ]
     },
     "execution_count": 9,
     "metadata": {},
     "output_type": "execute_result"
    }
   ],
   "source": [
    "val.encode('latin1')"
   ]
  },
  {
   "cell_type": "code",
   "execution_count": 10,
   "id": "5e8b0fc6",
   "metadata": {},
   "outputs": [
    {
     "data": {
      "text/plain": [
       "False"
      ]
     },
     "execution_count": 10,
     "metadata": {},
     "output_type": "execute_result"
    }
   ],
   "source": [
    "bool(0)"
   ]
  },
  {
   "cell_type": "code",
   "execution_count": 12,
   "id": "4443989b",
   "metadata": {},
   "outputs": [
    {
     "data": {
      "text/plain": [
       "False"
      ]
     },
     "execution_count": 12,
     "metadata": {},
     "output_type": "execute_result"
    }
   ],
   "source": [
    "isinstance(bool, int)   #一个对象是否是特定类型的实例"
   ]
  },
  {
   "cell_type": "code",
   "execution_count": 13,
   "id": "058c6939",
   "metadata": {},
   "outputs": [
    {
     "data": {
      "text/plain": [
       "True"
      ]
     },
     "execution_count": 13,
     "metadata": {},
     "output_type": "execute_result"
    }
   ],
   "source": [
    "issubclass(bool, int)   #是否是子类"
   ]
  },
  {
   "cell_type": "code",
   "execution_count": 14,
   "id": "08d15b3f",
   "metadata": {},
   "outputs": [
    {
     "data": {
      "text/plain": [
       "9"
      ]
     },
     "execution_count": 14,
     "metadata": {},
     "output_type": "execute_result"
    }
   ],
   "source": [
    "def add_and_maybe_multiply(a,b,c = None):\n",
    "    result = a + b\n",
    "    \n",
    "    if c :\n",
    "        result = result * c\n",
    "        \n",
    "    return result\n",
    "        \n",
    "add_and_maybe_multiply(1, 2, 3)"
   ]
  },
  {
   "cell_type": "code",
   "execution_count": 16,
   "id": "10effceb",
   "metadata": {},
   "outputs": [
    {
     "data": {
      "text/plain": [
       "14"
      ]
     },
     "execution_count": 16,
     "metadata": {},
     "output_type": "execute_result"
    }
   ],
   "source": [
    "from datetime import datetime, date, time\n",
    "dt = datetime(2021,12,14,11,6,21)\n",
    "dt.day"
   ]
  },
  {
   "cell_type": "code",
   "execution_count": 17,
   "id": "aacd9b51",
   "metadata": {},
   "outputs": [
    {
     "data": {
      "text/plain": [
       "6"
      ]
     },
     "execution_count": 17,
     "metadata": {},
     "output_type": "execute_result"
    }
   ],
   "source": [
    "dt.minute"
   ]
  },
  {
   "cell_type": "code",
   "execution_count": 18,
   "id": "43b08bb7",
   "metadata": {},
   "outputs": [
    {
     "data": {
      "text/plain": [
       "datetime.date(2021, 12, 14)"
      ]
     },
     "execution_count": 18,
     "metadata": {},
     "output_type": "execute_result"
    }
   ],
   "source": [
    "dt.date()"
   ]
  },
  {
   "cell_type": "code",
   "execution_count": 19,
   "id": "ec384a9f",
   "metadata": {},
   "outputs": [
    {
     "data": {
      "text/plain": [
       "datetime.time(11, 6, 21)"
      ]
     },
     "execution_count": 19,
     "metadata": {},
     "output_type": "execute_result"
    }
   ],
   "source": [
    "dt.time()"
   ]
  },
  {
   "cell_type": "code",
   "execution_count": 26,
   "id": "3589513d",
   "metadata": {},
   "outputs": [
    {
     "data": {
      "text/plain": [
       "datetime.datetime(2021, 12, 14, 0, 0)"
      ]
     },
     "execution_count": 26,
     "metadata": {},
     "output_type": "execute_result"
    }
   ],
   "source": [
    "datetime.strptime('2021/12/14','%Y/%m/%d')"
   ]
  },
  {
   "cell_type": "code",
   "execution_count": 28,
   "id": "a6e95adc",
   "metadata": {},
   "outputs": [
    {
     "data": {
      "text/plain": [
       "datetime.datetime(2021, 12, 14, 11, 59)"
      ]
     },
     "execution_count": 28,
     "metadata": {},
     "output_type": "execute_result"
    }
   ],
   "source": [
    "dt.replace(minute = 59, second = 0)"
   ]
  },
  {
   "cell_type": "code",
   "execution_count": 29,
   "id": "cecd7c49",
   "metadata": {},
   "outputs": [
    {
     "name": "stdout",
     "output_type": "stream",
     "text": [
      "11\n"
     ]
    }
   ],
   "source": [
    "total = 0\n",
    "sequences = [1, 2, None, 3, 5, None]\n",
    "for sequence in sequences:\n",
    "    if sequence == None:\n",
    "        continue\n",
    "    else:\n",
    "        total += sequence\n",
    "        \n",
    "print(total)"
   ]
  },
  {
   "cell_type": "code",
   "execution_count": 37,
   "id": "1e3a2af5",
   "metadata": {},
   "outputs": [
    {
     "name": "stdout",
     "output_type": "stream",
     "text": [
      "(0, 0)\n",
      "(1, 0)\n",
      "(1, 1)\n",
      "(2, 0)\n",
      "(2, 1)\n",
      "(2, 2)\n",
      "(3, 0)\n",
      "(3, 1)\n",
      "(3, 2)\n",
      "(3, 3)\n"
     ]
    }
   ],
   "source": [
    "for i in range(4):\n",
    "    for j in range(4):\n",
    "        if j > i:\n",
    "            break\n",
    "        print((i,j))"
   ]
  },
  {
   "cell_type": "code",
   "execution_count": 35,
   "id": "356c0dd8",
   "metadata": {},
   "outputs": [
    {
     "name": "stdout",
     "output_type": "stream",
     "text": [
      "512\n"
     ]
    }
   ],
   "source": [
    "x = 256\n",
    "total = 0\n",
    "while x > 0 :\n",
    "    if total > 500:\n",
    "        break\n",
    "    total += x\n",
    "        \n",
    "print(total)"
   ]
  },
  {
   "cell_type": "code",
   "execution_count": 1,
   "id": "2b58e440",
   "metadata": {},
   "outputs": [
    {
     "name": "stdout",
     "output_type": "stream",
     "text": [
      "15\n"
     ]
    }
   ],
   "source": [
    "sequences = [1, 2, 3, 4, 5, 0, 2, 0, 1]\n",
    "total = 0\n",
    "for sequence in sequences:\n",
    "    if sequence == 0:\n",
    "        break\n",
    "        \n",
    "    total += sequence\n",
    "print(total)"
   ]
  },
  {
   "cell_type": "code",
   "execution_count": 11,
   "id": "259ba8b2",
   "metadata": {},
   "outputs": [
    {
     "name": "stdout",
     "output_type": "stream",
     "text": [
      "Positive!\n"
     ]
    }
   ],
   "source": [
    "x = 5\n",
    "if x < 0:\n",
    "    print(\"Negagtive!\")\n",
    "    \n",
    "elif x == 0:\n",
    "    pass\n",
    "else:\n",
    "    print(\"Positive!\")"
   ]
  },
  {
   "cell_type": "code",
   "execution_count": 13,
   "id": "b879577a",
   "metadata": {},
   "outputs": [
    {
     "data": {
      "text/plain": [
       "[0, 2, 4, 6, 8]"
      ]
     },
     "execution_count": 13,
     "metadata": {},
     "output_type": "execute_result"
    }
   ],
   "source": [
    "a = range(0, 10, 2)\n",
    "list(a)"
   ]
  },
  {
   "cell_type": "code",
   "execution_count": 16,
   "id": "53493fe2",
   "metadata": {},
   "outputs": [
    {
     "name": "stdout",
     "output_type": "stream",
     "text": [
      "1\n",
      "2\n",
      "3\n",
      "4\n"
     ]
    }
   ],
   "source": [
    "seq = [1, 2, 3, 4]\n",
    "for i in range(len(seq)):\n",
    "    val = seq[i]\n",
    "    print(val)\n"
   ]
  },
  {
   "cell_type": "markdown",
   "id": "f3a0993d",
   "metadata": {},
   "source": [
    "sum = 0\n"
   ]
  },
  {
   "cell_type": "code",
   "execution_count": 22,
   "id": "1f7e1273",
   "metadata": {},
   "outputs": [
    {
     "name": "stdout",
     "output_type": "stream",
     "text": [
      "2333316668\n"
     ]
    }
   ],
   "source": [
    "sum = 0\n",
    "for i in range(100000):\n",
    "    if i%3 == 0 or i%5 == 0:\n",
    "        sum += i\n",
    "    \n",
    "print(sum)"
   ]
  },
  {
   "cell_type": "code",
   "execution_count": 23,
   "id": "2aef61db",
   "metadata": {},
   "outputs": [
    {
     "data": {
      "text/plain": [
       "'Non-negative'"
      ]
     },
     "execution_count": 23,
     "metadata": {},
     "output_type": "execute_result"
    }
   ],
   "source": [
    "x = 5\n",
    "'Non-negative' if x > 0 else \"negative\""
   ]
  },
  {
   "cell_type": "code",
   "execution_count": 24,
   "id": "956dfdcf",
   "metadata": {},
   "outputs": [],
   "source": [
    "tup = 4, 5, 6"
   ]
  },
  {
   "cell_type": "code",
   "execution_count": 25,
   "id": "fdc23fe4",
   "metadata": {},
   "outputs": [
    {
     "data": {
      "text/plain": [
       "tuple"
      ]
     },
     "execution_count": 25,
     "metadata": {},
     "output_type": "execute_result"
    }
   ],
   "source": [
    "type(tup)"
   ]
  },
  {
   "cell_type": "code",
   "execution_count": 26,
   "id": "b0eab1bf",
   "metadata": {},
   "outputs": [],
   "source": [
    "nested_tup = (4, 5, 6),(7, 8)"
   ]
  },
  {
   "cell_type": "code",
   "execution_count": 27,
   "id": "d3fdd423",
   "metadata": {},
   "outputs": [
    {
     "data": {
      "text/plain": [
       "((4, 5, 6), (7, 8))"
      ]
     },
     "execution_count": 27,
     "metadata": {},
     "output_type": "execute_result"
    }
   ],
   "source": [
    "nested_tup"
   ]
  },
  {
   "cell_type": "code",
   "execution_count": 28,
   "id": "0d4dad21",
   "metadata": {},
   "outputs": [],
   "source": [
    "tup = tuple(\"string\")"
   ]
  },
  {
   "cell_type": "code",
   "execution_count": 29,
   "id": "175f9790",
   "metadata": {},
   "outputs": [
    {
     "data": {
      "text/plain": [
       "('s', 't', 'r', 'i', 'n', 'g')"
      ]
     },
     "execution_count": 29,
     "metadata": {},
     "output_type": "execute_result"
    }
   ],
   "source": [
    "tup"
   ]
  },
  {
   "cell_type": "code",
   "execution_count": 30,
   "id": "b22a8b1a",
   "metadata": {},
   "outputs": [
    {
     "data": {
      "text/plain": [
       "'s'"
      ]
     },
     "execution_count": 30,
     "metadata": {},
     "output_type": "execute_result"
    }
   ],
   "source": [
    "tup[0]"
   ]
  },
  {
   "cell_type": "code",
   "execution_count": 31,
   "id": "7f5f5100",
   "metadata": {},
   "outputs": [
    {
     "data": {
      "text/plain": [
       "'g'"
      ]
     },
     "execution_count": 31,
     "metadata": {},
     "output_type": "execute_result"
    }
   ],
   "source": [
    "tup[-1]"
   ]
  },
  {
   "cell_type": "code",
   "execution_count": 35,
   "id": "7457194c",
   "metadata": {},
   "outputs": [],
   "source": [
    "tup = tuple(['foo', [1, 3], True])\n",
    "tup[1].append(2)"
   ]
  },
  {
   "cell_type": "code",
   "execution_count": 33,
   "id": "8c29ebf5",
   "metadata": {},
   "outputs": [
    {
     "data": {
      "text/plain": [
       "('foo', [1, 3, 2], True)"
      ]
     },
     "execution_count": 33,
     "metadata": {},
     "output_type": "execute_result"
    }
   ],
   "source": [
    "tup"
   ]
  },
  {
   "cell_type": "code",
   "execution_count": 38,
   "id": "44519055",
   "metadata": {},
   "outputs": [
    {
     "data": {
      "text/plain": [
       "('foo',\n",
       " 'bar',\n",
       " 'foo',\n",
       " 'bar',\n",
       " 'foo',\n",
       " 'bar',\n",
       " 'foo',\n",
       " 'bar',\n",
       " 'foo',\n",
       " 'bar',\n",
       " 'foo',\n",
       " 'bar',\n",
       " 'foo',\n",
       " 'bar',\n",
       " 'foo',\n",
       " 'bar',\n",
       " 'foo',\n",
       " 'bar',\n",
       " 'foo',\n",
       " 'bar')"
      ]
     },
     "execution_count": 38,
     "metadata": {},
     "output_type": "execute_result"
    }
   ],
   "source": [
    "(\"foo\",\"bar\") *10"
   ]
  },
  {
   "cell_type": "code",
   "execution_count": 40,
   "id": "bc71ae51",
   "metadata": {},
   "outputs": [
    {
     "data": {
      "text/plain": [
       "(4, None, [1, 2, 3], 'foo')"
      ]
     },
     "execution_count": 40,
     "metadata": {},
     "output_type": "execute_result"
    }
   ],
   "source": [
    "(4, None, [1, 2, 3]) + ('foo',)"
   ]
  },
  {
   "cell_type": "code",
   "execution_count": 41,
   "id": "3dafd993",
   "metadata": {},
   "outputs": [],
   "source": [
    "tup = (1, 2, 3)\n",
    "a, b, c = tup"
   ]
  },
  {
   "cell_type": "code",
   "execution_count": 42,
   "id": "28095848",
   "metadata": {},
   "outputs": [
    {
     "data": {
      "text/plain": [
       "2"
      ]
     },
     "execution_count": 42,
     "metadata": {},
     "output_type": "execute_result"
    }
   ],
   "source": [
    "b"
   ]
  },
  {
   "cell_type": "code",
   "execution_count": 1,
   "id": "94b315f0",
   "metadata": {},
   "outputs": [
    {
     "data": {
      "text/plain": [
       "1"
      ]
     },
     "execution_count": 1,
     "metadata": {},
     "output_type": "execute_result"
    }
   ],
   "source": [
    "tup = 1, 2, (6, 7)\n",
    "a, b, (c, d) = tup\n",
    "a"
   ]
  },
  {
   "cell_type": "code",
   "execution_count": 2,
   "id": "77adfdc2",
   "metadata": {},
   "outputs": [
    {
     "data": {
      "text/plain": [
       "6"
      ]
     },
     "execution_count": 2,
     "metadata": {},
     "output_type": "execute_result"
    }
   ],
   "source": [
    "c"
   ]
  },
  {
   "cell_type": "code",
   "execution_count": 5,
   "id": "8d0de15b",
   "metadata": {},
   "outputs": [
    {
     "name": "stdout",
     "output_type": "stream",
     "text": [
      "a0 = 1\n",
      "b0 = 2\n",
      "a1 = 2\n",
      "b1 = 1\n"
     ]
    }
   ],
   "source": [
    "#python 中的简易互换；记得要在print中加入str（）！！\n",
    "a, b = 1, 2\n",
    "print('a0 = ' + str(a))\n",
    "print('b0 = ' + str(b))\n",
    "\n",
    "a, b = b, a\n",
    "print('a1 = ' + str(a))\n",
    "print('b1 = ' + str(b))"
   ]
  },
  {
   "cell_type": "code",
   "execution_count": 7,
   "id": "29b0dcae",
   "metadata": {},
   "outputs": [
    {
     "name": "stdout",
     "output_type": "stream",
     "text": [
      "a:1, b:2, c:3\n",
      "a:2, b:3, c:4\n",
      "a:3, b:4, c:5\n"
     ]
    }
   ],
   "source": [
    "seqs = [(1, 2, 3),(2, 3, 4),(3, 4, 5)]\n",
    "for a, b, c in seqs:\n",
    "    print(\"a:{0}, b:{1}, c:{2}\".format(a, b, c))"
   ]
  },
  {
   "cell_type": "code",
   "execution_count": 9,
   "id": "8ee6e27c",
   "metadata": {},
   "outputs": [
    {
     "data": {
      "text/plain": [
       "[3, 4, 5]"
      ]
     },
     "execution_count": 9,
     "metadata": {},
     "output_type": "execute_result"
    }
   ],
   "source": [
    "values = 1, 2, 3, 4, 5\n",
    "a, b, *rest = values\n",
    "a,b\n",
    "rest"
   ]
  },
  {
   "cell_type": "code",
   "execution_count": 10,
   "id": "8316e16c",
   "metadata": {},
   "outputs": [
    {
     "data": {
      "text/plain": [
       "[3, 4, 5]"
      ]
     },
     "execution_count": 10,
     "metadata": {},
     "output_type": "execute_result"
    }
   ],
   "source": [
    "a, b, *_ = values\n",
    "_"
   ]
  },
  {
   "cell_type": "code",
   "execution_count": 13,
   "id": "48431269",
   "metadata": {},
   "outputs": [
    {
     "data": {
      "text/plain": [
       "2"
      ]
     },
     "execution_count": 13,
     "metadata": {},
     "output_type": "execute_result"
    }
   ],
   "source": [
    "a = (1, 1, 2, 3, 4, 5, 3, 2, 1)\n",
    "a.count(3)"
   ]
  },
  {
   "cell_type": "code",
   "execution_count": 15,
   "id": "d12fa02e",
   "metadata": {},
   "outputs": [
    {
     "data": {
      "text/plain": [
       "5"
      ]
     },
     "execution_count": 15,
     "metadata": {},
     "output_type": "execute_result"
    }
   ],
   "source": [
    "a = [1, 2, 3, 4, 5]\n",
    "\n",
    "#计算a中1的个数\n",
    "a.count(1)\n",
    "\n",
    "#计算列表长度\n",
    "len(a)"
   ]
  },
  {
   "cell_type": "code",
   "execution_count": 16,
   "id": "4de73657",
   "metadata": {},
   "outputs": [
    {
     "data": {
      "text/plain": [
       "['foo', 'bar', 'baz']"
      ]
     },
     "execution_count": 16,
     "metadata": {},
     "output_type": "execute_result"
    }
   ],
   "source": [
    "a_list = [1, 2, 3, 7, None]\n",
    "\n",
    "tup = ('foo', 'bar', 'baz')\n",
    "b_list = list(tup)\n",
    "\n",
    "b_list"
   ]
  },
  {
   "cell_type": "code",
   "execution_count": 17,
   "id": "9aa7b9fd",
   "metadata": {},
   "outputs": [
    {
     "data": {
      "text/plain": [
       "range(0, 10)"
      ]
     },
     "execution_count": 17,
     "metadata": {},
     "output_type": "execute_result"
    }
   ],
   "source": [
    "gen = range(10)\n",
    "gen"
   ]
  },
  {
   "cell_type": "code",
   "execution_count": 18,
   "id": "1e4ed419",
   "metadata": {},
   "outputs": [
    {
     "data": {
      "text/plain": [
       "[0, 1, 2, 3, 4, 5, 6, 7, 8, 9]"
      ]
     },
     "execution_count": 18,
     "metadata": {},
     "output_type": "execute_result"
    }
   ],
   "source": [
    "list(gen)"
   ]
  },
  {
   "cell_type": "code",
   "execution_count": 19,
   "id": "501873ab",
   "metadata": {},
   "outputs": [],
   "source": [
    "b_list.insert(2,'lily')"
   ]
  },
  {
   "cell_type": "code",
   "execution_count": 21,
   "id": "155d31ee",
   "metadata": {},
   "outputs": [
    {
     "data": {
      "text/plain": [
       "('foo', 'bar', 'lily', 'baz')"
      ]
     },
     "execution_count": 21,
     "metadata": {},
     "output_type": "execute_result"
    }
   ],
   "source": [
    "tuple(b_list)"
   ]
  },
  {
   "cell_type": "code",
   "execution_count": 43,
   "id": "c540fb99",
   "metadata": {},
   "outputs": [
    {
     "data": {
      "text/plain": [
       "[1, 2, 4, 5]"
      ]
     },
     "execution_count": 43,
     "metadata": {},
     "output_type": "execute_result"
    }
   ],
   "source": [
    "a_list = [1, 2, 4, 5, None]\n",
    "a_list.pop(-1)\n",
    "a_list\n"
   ]
  },
  {
   "cell_type": "code",
   "execution_count": 33,
   "id": "8747380a",
   "metadata": {},
   "outputs": [
    {
     "name": "stdout",
     "output_type": "stream",
     "text": [
      "deque([4, 1, 2, 3])\n"
     ]
    }
   ],
   "source": [
    "import collections\n",
    "a = collections.deque([1, 2, 3, 4])\n",
    "a.rotate(1)\n",
    "print(a)"
   ]
  },
  {
   "cell_type": "code",
   "execution_count": 44,
   "id": "a335701f",
   "metadata": {},
   "outputs": [
    {
     "data": {
      "text/plain": [
       "True"
      ]
     },
     "execution_count": 44,
     "metadata": {},
     "output_type": "execute_result"
    }
   ],
   "source": [
    "1 in a_list"
   ]
  },
  {
   "cell_type": "code",
   "execution_count": 6,
   "id": "f29a8c5f",
   "metadata": {},
   "outputs": [
    {
     "name": "stdout",
     "output_type": "stream",
     "text": [
      "家庭因素是指“配偶和家人对外派人员的支持, 主要\n",
      "包括家庭的适应能力、家庭的沟通能力和家庭的支持”。\n",
      "[6]\n",
      "家庭因素是决定海外派遣成功与否的重要因素。配偶和\n",
      "家庭的适应也对外派人员的工作绩效有重要影响。对于\n",
      "家属留在母国的外派人员而言, 他们将面临着工作与家\n",
      "庭的冲突。在外派任职中, 由于时间和空间的限制, 外派\n",
      "人员有可能无法兼顾家庭, 特别是家中有幼小的子女或者\n",
      "年迈甚至残疾的长辈。如果家庭成员对此无法理解和支\n",
      "持, 就有可能给外派人员生活上带来压力, 并且会影响外\n",
      "派人员的工作情绪和表现。而对于携带家属的外派人员来\n",
      "说, 家庭成员的适应及沟通也会直接影响外派人员的工\n",
      "作, 例如配偶的工作问题、子女教育以及适应情况。\n",
      "由此可见, 只有当海外派遣人员的家属能够充分理\n",
      "解和接受自己的亲人赴异国任职时, 外派人员才可以无\n",
      "后顾之忧, 快速融入当地的文化生活。对于这个问题, 公\n",
      "司在派遣员工时, 就应该先妥善照顾外派人员的家属, 提\n",
      "供适当的帮助, 让他们的家人能够适应亲人不在身边的\n",
      "生活。只有这样, 才可以减少家庭因素与外派任务的冲\n",
      "突, 帮助外派人员加速适应东道国的生活和工作环境。\n",
      "增加家庭成员间的有效沟通, 也可以减缓家庭成员\n",
      "之间对不同意见所产生的冲突。因此如果外派人员及其\n",
      "家属之间能够有效的沟通与协调, 则有利于外派人员对\n",
      "海外环境的适应。对此, 企业在进行海外派遣的过程中,\n",
      "应该增加员工的通讯和长途交通费用, 以增加员工与其\n",
      "亲属之间的交谈, 提供家庭成员之间意见的交流, 减少由\n",
      "于时间和空间的差距所产生的冲突和分歧, 这样则能加\n",
      "速外派人员对海外生活的适应和调整。\n"
     ]
    }
   ],
   "source": [
    "a = \"/Users/apple/a.txt\"\n",
    "with open(a) as f:\n",
    "    f_object = f.read()\n",
    "    \n",
    "print(f_object.strip())"
   ]
  },
  {
   "cell_type": "code",
   "execution_count": 2,
   "id": "9ffcfb8d",
   "metadata": {},
   "outputs": [
    {
     "data": {
      "text/plain": [
       "[7, 'foo', None, 7, 'foo']"
      ]
     },
     "execution_count": 2,
     "metadata": {},
     "output_type": "execute_result"
    }
   ],
   "source": [
    "x = [7, 'foo', None] + [7, 'foo']\n",
    "x"
   ]
  },
  {
   "cell_type": "code",
   "execution_count": 5,
   "id": "0cba1938",
   "metadata": {},
   "outputs": [
    {
     "data": {
      "text/plain": [
       "[7, 'foo', None, 7, 'foo', 'foo', 8, ('foo', 8), 'foo', 8]"
      ]
     },
     "execution_count": 5,
     "metadata": {},
     "output_type": "execute_result"
    }
   ],
   "source": [
    "x.extend(('foo', 8))\n",
    "x"
   ]
  },
  {
   "cell_type": "code",
   "execution_count": 8,
   "id": "330605fc",
   "metadata": {},
   "outputs": [
    {
     "data": {
      "text/plain": [
       "[1, 2, 5, 6, 7]"
      ]
     },
     "execution_count": 8,
     "metadata": {},
     "output_type": "execute_result"
    }
   ],
   "source": [
    "a = [7, 2, 5, 6, 1]\n",
    "a.sort()\n",
    "a"
   ]
  },
  {
   "cell_type": "code",
   "execution_count": 9,
   "id": "5e5a0d17",
   "metadata": {},
   "outputs": [
    {
     "data": {
      "text/plain": [
       "['小胡', '黄沁洋']"
      ]
     },
     "execution_count": 9,
     "metadata": {},
     "output_type": "execute_result"
    }
   ],
   "source": [
    "b = ['黄沁洋', \"小胡\"]\n",
    "b.sort(key = len)\n",
    "b"
   ]
  },
  {
   "cell_type": "code",
   "execution_count": 10,
   "id": "ebb40d79",
   "metadata": {},
   "outputs": [],
   "source": [
    "import bisect"
   ]
  },
  {
   "cell_type": "code",
   "execution_count": 12,
   "id": "a122725e",
   "metadata": {},
   "outputs": [
    {
     "data": {
      "text/plain": [
       "8"
      ]
     },
     "execution_count": 12,
     "metadata": {},
     "output_type": "execute_result"
    }
   ],
   "source": [
    "import bisect\n",
    "\n",
    "a = [1, 3, 5, 3, 2, 5, 6, 5]\n",
    "a.sort()\n",
    "bisect.bisect(a, 7)"
   ]
  },
  {
   "cell_type": "code",
   "execution_count": 2,
   "id": "1f7e4754",
   "metadata": {},
   "outputs": [
    {
     "data": {
      "text/plain": [
       "[3, 4, 5, 6, 7, 7, 8, 9]"
      ]
     },
     "execution_count": 2,
     "metadata": {},
     "output_type": "execute_result"
    }
   ],
   "source": [
    "import bisect \n",
    "a = [9, 8, 7, 6 ,5, 4 ,3]\n",
    "a.sort()\n",
    "bisect.insort(a, 7)\n",
    "a"
   ]
  },
  {
   "cell_type": "code",
   "execution_count": 8,
   "id": "01220a46",
   "metadata": {},
   "outputs": [
    {
     "data": {
      "text/plain": [
       "[7, 7, 3, 3, 5, 6]"
      ]
     },
     "execution_count": 8,
     "metadata": {},
     "output_type": "execute_result"
    }
   ],
   "source": [
    "seq = [7, 2, 4, 3, 5, 6]\n",
    "seq[1:3] = [7, 3]\n",
    "seq"
   ]
  },
  {
   "cell_type": "code",
   "execution_count": 9,
   "id": "44cd2198",
   "metadata": {},
   "outputs": [
    {
     "data": {
      "text/plain": [
       "[3, 5, 6]"
      ]
     },
     "execution_count": 9,
     "metadata": {},
     "output_type": "execute_result"
    }
   ],
   "source": [
    "seq[-3:] "
   ]
  },
  {
   "cell_type": "code",
   "execution_count": 10,
   "id": "f985b498",
   "metadata": {},
   "outputs": [
    {
     "data": {
      "text/plain": [
       "[6, 5, 3, 3, 7, 7]"
      ]
     },
     "execution_count": 10,
     "metadata": {},
     "output_type": "execute_result"
    }
   ],
   "source": [
    "seq [::-1]"
   ]
  },
  {
   "cell_type": "code",
   "execution_count": 11,
   "id": "cb40ca32",
   "metadata": {},
   "outputs": [
    {
     "data": {
      "text/plain": [
       "[3, 5]"
      ]
     },
     "execution_count": 11,
     "metadata": {},
     "output_type": "execute_result"
    }
   ],
   "source": [
    "seq[-3:-1]"
   ]
  },
  {
   "cell_type": "code",
   "execution_count": 12,
   "id": "c41fa6a5",
   "metadata": {},
   "outputs": [
    {
     "data": {
      "text/plain": [
       "6"
      ]
     },
     "execution_count": 12,
     "metadata": {},
     "output_type": "execute_result"
    }
   ],
   "source": [
    "seq[-1]"
   ]
  },
  {
   "cell_type": "code",
   "execution_count": 13,
   "id": "44be2347",
   "metadata": {},
   "outputs": [
    {
     "data": {
      "text/plain": [
       "[7, 3, 5]"
      ]
     },
     "execution_count": 13,
     "metadata": {},
     "output_type": "execute_result"
    }
   ],
   "source": [
    "seq[::2]"
   ]
  },
  {
   "cell_type": "code",
   "execution_count": 14,
   "id": "60489c03",
   "metadata": {},
   "outputs": [
    {
     "data": {
      "text/plain": [
       "[6, 3, 7]"
      ]
     },
     "execution_count": 14,
     "metadata": {},
     "output_type": "execute_result"
    }
   ],
   "source": [
    "seq[::-2]"
   ]
  },
  {
   "cell_type": "code",
   "execution_count": 16,
   "id": "b7f2c217",
   "metadata": {},
   "outputs": [
    {
     "data": {
      "text/plain": [
       "{'foo': 0, 'bar': 1, 'baz': 2}"
      ]
     },
     "execution_count": 16,
     "metadata": {},
     "output_type": "execute_result"
    }
   ],
   "source": [
    "some_list = ['foo', 'bar', 'baz']\n",
    "mapping = {}\n",
    "for i, value in enumerate(some_list):\n",
    "    mapping[value] = i\n",
    "\n",
    "mapping"
   ]
  },
  {
   "cell_type": "code",
   "execution_count": 18,
   "id": "7b3b463e",
   "metadata": {},
   "outputs": [
    {
     "data": {
      "text/plain": [
       "[3, 4, 5, 7, 8, 9]"
      ]
     },
     "execution_count": 18,
     "metadata": {},
     "output_type": "execute_result"
    }
   ],
   "source": [
    "sorted([7, 8, 9, 3, 4, 5])"
   ]
  },
  {
   "cell_type": "code",
   "execution_count": 19,
   "id": "73e13e16",
   "metadata": {},
   "outputs": [
    {
     "data": {
      "text/plain": [
       "[' ', 'a', 'c', 'e', 'e', 'h', 'o', 'r', 'r', 's']"
      ]
     },
     "execution_count": 19,
     "metadata": {},
     "output_type": "execute_result"
    }
   ],
   "source": [
    "sorted('horse race')"
   ]
  },
  {
   "cell_type": "code",
   "execution_count": 23,
   "id": "7d67c245",
   "metadata": {},
   "outputs": [
    {
     "data": {
      "text/plain": [
       "[('foo', 'one'), ('bar', 'two'), ('baz', 'three')]"
      ]
     },
     "execution_count": 23,
     "metadata": {},
     "output_type": "execute_result"
    }
   ],
   "source": [
    "seq1 = [\"foo\", \"bar\", \"baz\"]\n",
    "seq2 = [\"one\", \"two\", \"three\"]\n",
    "zipped = zip(seq1, seq2)\n",
    "list(zipped)"
   ]
  },
  {
   "cell_type": "code",
   "execution_count": 25,
   "id": "27f501a3",
   "metadata": {},
   "outputs": [
    {
     "data": {
      "text/plain": [
       "[('foo', 'one', 'true'), ('bar', 'two', 'false')]"
      ]
     },
     "execution_count": 25,
     "metadata": {},
     "output_type": "execute_result"
    }
   ],
   "source": [
    "seq3 = [\"true\", \"false\"]\n",
    "zippppped = zip(seq1, seq2, seq3)\n",
    "list(zippppped)"
   ]
  },
  {
   "cell_type": "code",
   "execution_count": 30,
   "id": "c978d0e8",
   "metadata": {},
   "outputs": [
    {
     "name": "stdout",
     "output_type": "stream",
     "text": [
      "0:foo, one\n",
      "1:bar, two\n",
      "2:baz, three\n"
     ]
    }
   ],
   "source": [
    "seq1 = [\"foo\", \"bar\", \"baz\"]\n",
    "seq2 = [\"one\", \"two\", \"three\"]\n",
    "zipped = zip(seq1, seq2)\n",
    "for i, (a,b) in enumerate(zipped):\n",
    "    print(\"{0}:{1}, {2}\".format(i, a, b))"
   ]
  },
  {
   "cell_type": "code",
   "execution_count": 31,
   "id": "9234f10c",
   "metadata": {},
   "outputs": [
    {
     "data": {
      "text/plain": [
       "('nolan', 'roger', 'schilling')"
      ]
     },
     "execution_count": 31,
     "metadata": {},
     "output_type": "execute_result"
    }
   ],
   "source": [
    "pitchers = [(\"nolan\", \"ryan\"), (\"roger\", \"lily\"), (\"schilling\", \"curt\")]\n",
    "first_names, last_names = zip(*pitchers)\n",
    "first_names"
   ]
  },
  {
   "cell_type": "code",
   "execution_count": 33,
   "id": "504514a5",
   "metadata": {},
   "outputs": [
    {
     "name": "stdout",
     "output_type": "stream",
     "text": [
      "CPU times: user 2.22 ms, sys: 2.33 ms, total: 4.55 ms\n",
      "Wall time: 4.29 ms\n"
     ]
    }
   ],
   "source": [
    "import numpy as np\n",
    "\n",
    "my_arr = np.arange(100001)\n",
    "%time for i in range(10):my_arr2 = my_arr * 2\n"
   ]
  },
  {
   "cell_type": "code",
   "execution_count": 34,
   "id": "d8965998",
   "metadata": {},
   "outputs": [
    {
     "name": "stdout",
     "output_type": "stream",
     "text": [
      "CPU times: user 61.2 ms, sys: 9.17 ms, total: 70.4 ms\n",
      "Wall time: 69.9 ms\n"
     ]
    }
   ],
   "source": [
    "my_list = list(range(100001))\n",
    "%time for i in range(10):my_list2 = [x * 2 for x in my_list]"
   ]
  },
  {
   "cell_type": "code",
   "execution_count": 37,
   "id": "7bcc9561",
   "metadata": {},
   "outputs": [
    {
     "data": {
      "text/plain": [
       "array([[ 1.39197582, -1.36847336, -0.20806574],\n",
       "       [-0.13308512, -0.14550584, -2.00718533]])"
      ]
     },
     "execution_count": 37,
     "metadata": {},
     "output_type": "execute_result"
    }
   ],
   "source": [
    "import numpy as np\n",
    "\n",
    "data = np.random.randn(2, 3)\n",
    "\n",
    "data"
   ]
  },
  {
   "cell_type": "code",
   "execution_count": 38,
   "id": "92cd3472",
   "metadata": {},
   "outputs": [
    {
     "data": {
      "text/plain": [
       "array([[ 13.91975823, -13.6847336 ,  -2.0806574 ],\n",
       "       [ -1.33085115,  -1.45505842, -20.07185327]])"
      ]
     },
     "execution_count": 38,
     "metadata": {},
     "output_type": "execute_result"
    }
   ],
   "source": [
    "data * 10"
   ]
  },
  {
   "cell_type": "code",
   "execution_count": 39,
   "id": "c2e05b95",
   "metadata": {},
   "outputs": [
    {
     "data": {
      "text/plain": [
       "(2, 3)"
      ]
     },
     "execution_count": 39,
     "metadata": {},
     "output_type": "execute_result"
    }
   ],
   "source": [
    "data.shape"
   ]
  },
  {
   "cell_type": "code",
   "execution_count": 43,
   "id": "98c98c00",
   "metadata": {},
   "outputs": [
    {
     "name": "stdout",
     "output_type": "stream",
     "text": [
      "[1 2 6 8 4]\n",
      "[[1 2 3]\n",
      " [3 4 5]]\n"
     ]
    }
   ],
   "source": [
    "import numpy as np\n",
    "\n",
    "data1 = [1, 2, 6, 8, 4]\n",
    "arr1 = np.array(data1)\n",
    "print(arr1)\n",
    "\n",
    "data2 = [[1, 2, 3], [3, 4, 5]]\n",
    "arr2 = np.array(data2)\n",
    "print(arr2)"
   ]
  },
  {
   "cell_type": "code",
   "execution_count": 44,
   "id": "20bb5364",
   "metadata": {},
   "outputs": [
    {
     "data": {
      "text/plain": [
       "(2, 3)"
      ]
     },
     "execution_count": 44,
     "metadata": {},
     "output_type": "execute_result"
    }
   ],
   "source": [
    "arr2.shape"
   ]
  },
  {
   "cell_type": "code",
   "execution_count": 45,
   "id": "c48b124f",
   "metadata": {},
   "outputs": [
    {
     "data": {
      "text/plain": [
       "dtype('int64')"
      ]
     },
     "execution_count": 45,
     "metadata": {},
     "output_type": "execute_result"
    }
   ],
   "source": [
    "arr2.dtype"
   ]
  },
  {
   "cell_type": "code",
   "execution_count": 46,
   "id": "f199cb05",
   "metadata": {},
   "outputs": [
    {
     "data": {
      "text/plain": [
       "2"
      ]
     },
     "execution_count": 46,
     "metadata": {},
     "output_type": "execute_result"
    }
   ],
   "source": [
    "arr2.ndim #2维数组"
   ]
  },
  {
   "cell_type": "code",
   "execution_count": 48,
   "id": "c540bc20",
   "metadata": {},
   "outputs": [
    {
     "data": {
      "text/plain": [
       "1"
      ]
     },
     "execution_count": 48,
     "metadata": {},
     "output_type": "execute_result"
    }
   ],
   "source": [
    "arr1.ndim #1维数组"
   ]
  },
  {
   "cell_type": "code",
   "execution_count": 49,
   "id": "225cb9f2",
   "metadata": {},
   "outputs": [
    {
     "data": {
      "text/plain": [
       "array([0., 0., 0., 0., 0., 0., 0., 0., 0., 0.])"
      ]
     },
     "execution_count": 49,
     "metadata": {},
     "output_type": "execute_result"
    }
   ],
   "source": [
    "np.zeros(10)"
   ]
  },
  {
   "cell_type": "code",
   "execution_count": 53,
   "id": "98d9072a",
   "metadata": {},
   "outputs": [
    {
     "data": {
      "text/plain": [
       "array([[[0., 0.],\n",
       "        [0., 0.],\n",
       "        [0., 0.]],\n",
       "\n",
       "       [[0., 0.],\n",
       "        [0., 0.],\n",
       "        [0., 0.]]])"
      ]
     },
     "execution_count": 53,
     "metadata": {},
     "output_type": "execute_result"
    }
   ],
   "source": [
    "np.zeros((2, 3, 2))"
   ]
  },
  {
   "cell_type": "code",
   "execution_count": 54,
   "id": "f4c1ad37",
   "metadata": {},
   "outputs": [
    {
     "data": {
      "text/plain": [
       "array([[1., 1., 1.],\n",
       "       [1., 1., 1.]])"
      ]
     },
     "execution_count": 54,
     "metadata": {},
     "output_type": "execute_result"
    }
   ],
   "source": [
    "np.ones((2, 3))"
   ]
  },
  {
   "cell_type": "code",
   "execution_count": 56,
   "id": "dfac8ce5",
   "metadata": {},
   "outputs": [
    {
     "data": {
      "text/plain": [
       "array([ 0,  1,  2,  3,  4,  5,  6,  7,  8,  9, 10, 11, 12, 13, 14])"
      ]
     },
     "execution_count": 56,
     "metadata": {},
     "output_type": "execute_result"
    }
   ],
   "source": [
    "np.arange(15)"
   ]
  },
  {
   "cell_type": "code",
   "execution_count": 57,
   "id": "c4959bb7",
   "metadata": {},
   "outputs": [
    {
     "data": {
      "text/plain": [
       "array([[1., 0., 0., 0., 0., 0., 0., 0., 0., 0.],\n",
       "       [0., 1., 0., 0., 0., 0., 0., 0., 0., 0.],\n",
       "       [0., 0., 1., 0., 0., 0., 0., 0., 0., 0.],\n",
       "       [0., 0., 0., 1., 0., 0., 0., 0., 0., 0.],\n",
       "       [0., 0., 0., 0., 1., 0., 0., 0., 0., 0.],\n",
       "       [0., 0., 0., 0., 0., 1., 0., 0., 0., 0.],\n",
       "       [0., 0., 0., 0., 0., 0., 1., 0., 0., 0.],\n",
       "       [0., 0., 0., 0., 0., 0., 0., 1., 0., 0.],\n",
       "       [0., 0., 0., 0., 0., 0., 0., 0., 1., 0.],\n",
       "       [0., 0., 0., 0., 0., 0., 0., 0., 0., 1.]])"
      ]
     },
     "execution_count": 57,
     "metadata": {},
     "output_type": "execute_result"
    }
   ],
   "source": [
    "np.identity(10)"
   ]
  },
  {
   "cell_type": "code",
   "execution_count": 61,
   "id": "ba0dc941",
   "metadata": {},
   "outputs": [
    {
     "data": {
      "text/plain": [
       "array([[0., 0., 0.],\n",
       "       [1., 0., 0.],\n",
       "       [0., 1., 0.],\n",
       "       [0., 0., 1.]])"
      ]
     },
     "execution_count": 61,
     "metadata": {},
     "output_type": "execute_result"
    }
   ],
   "source": [
    "np.eye(4, 3, -1)"
   ]
  },
  {
   "cell_type": "code",
   "execution_count": 4,
   "id": "7ff4c062",
   "metadata": {},
   "outputs": [
    {
     "data": {
      "text/plain": [
       "array([[1., 1., 1., 1.],\n",
       "       [1., 1., 1., 1.],\n",
       "       [1., 1., 1., 1.]])"
      ]
     },
     "execution_count": 4,
     "metadata": {},
     "output_type": "execute_result"
    }
   ],
   "source": [
    "import numpy as np\n",
    "np.ones((3,4))"
   ]
  },
  {
   "cell_type": "code",
   "execution_count": 5,
   "id": "3dc1dcaa",
   "metadata": {},
   "outputs": [],
   "source": [
    "arr1 = np.array([1, 2, 3], dtype = np.float64)"
   ]
  },
  {
   "cell_type": "code",
   "execution_count": 6,
   "id": "59461db2",
   "metadata": {},
   "outputs": [
    {
     "data": {
      "text/plain": [
       "dtype('float64')"
      ]
     },
     "execution_count": 6,
     "metadata": {},
     "output_type": "execute_result"
    }
   ],
   "source": [
    "arr1.dtype"
   ]
  },
  {
   "cell_type": "code",
   "execution_count": 10,
   "id": "5733f619",
   "metadata": {},
   "outputs": [
    {
     "data": {
      "text/plain": [
       "dtype('int64')"
      ]
     },
     "execution_count": 10,
     "metadata": {},
     "output_type": "execute_result"
    }
   ],
   "source": [
    "arr = np.array([1, 2, 3, 4, 5])\n",
    "arr.dtype"
   ]
  },
  {
   "cell_type": "code",
   "execution_count": 13,
   "id": "5419d1fa",
   "metadata": {},
   "outputs": [
    {
     "data": {
      "text/plain": [
       "dtype('float64')"
      ]
     },
     "execution_count": 13,
     "metadata": {},
     "output_type": "execute_result"
    }
   ],
   "source": [
    "float_arr = arr.astype(np.float64)\n",
    "float_arr.dtype"
   ]
  },
  {
   "cell_type": "code",
   "execution_count": 14,
   "id": "9a5d8167",
   "metadata": {},
   "outputs": [
    {
     "data": {
      "text/plain": [
       "array([1., 2., 3., 4., 5.])"
      ]
     },
     "execution_count": 14,
     "metadata": {},
     "output_type": "execute_result"
    }
   ],
   "source": [
    "float_arr"
   ]
  },
  {
   "cell_type": "code",
   "execution_count": 18,
   "id": "2ccaf140",
   "metadata": {},
   "outputs": [
    {
     "data": {
      "text/plain": [
       "array([1, 2, 3, 4], dtype=int32)"
      ]
     },
     "execution_count": 18,
     "metadata": {},
     "output_type": "execute_result"
    }
   ],
   "source": [
    "arr = np.array([1.1, 2.0, 3.7, 4.6])\n",
    "int_arr = arr.astype(np.int32)\n",
    "int_arr"
   ]
  },
  {
   "cell_type": "code",
   "execution_count": 28,
   "id": "a17c0d24",
   "metadata": {},
   "outputs": [
    {
     "data": {
      "text/plain": [
       "array([ 1.23,  2.5 , -1.  ])"
      ]
     },
     "execution_count": 28,
     "metadata": {},
     "output_type": "execute_result"
    }
   ],
   "source": [
    "numeric_strings = np.array([\"1.23\", \"2.5\", \"-1.0\"], dtype = np.string_)\n",
    "int_arr1 = numeric_strings.astype(np.float64)\n",
    "int_arr1"
   ]
  },
  {
   "cell_type": "code",
   "execution_count": 2,
   "id": "e3cfc70e",
   "metadata": {},
   "outputs": [
    {
     "data": {
      "text/plain": [
       "array([[1., 2., 3.],\n",
       "       [4., 5., 6.]])"
      ]
     },
     "execution_count": 2,
     "metadata": {},
     "output_type": "execute_result"
    }
   ],
   "source": [
    "import numpy as np\n",
    "\n",
    "arr = np.array([[1., 2., 3.], [4., 5., 6.]])\n",
    "arr"
   ]
  },
  {
   "cell_type": "code",
   "execution_count": 3,
   "id": "c44d128d",
   "metadata": {},
   "outputs": [
    {
     "data": {
      "text/plain": [
       "array([[ 1.,  4.,  9.],\n",
       "       [16., 25., 36.]])"
      ]
     },
     "execution_count": 3,
     "metadata": {},
     "output_type": "execute_result"
    }
   ],
   "source": [
    "arr * arr"
   ]
  },
  {
   "cell_type": "code",
   "execution_count": 4,
   "id": "476a2c66",
   "metadata": {},
   "outputs": [
    {
     "data": {
      "text/plain": [
       "array([[0., 0., 0.],\n",
       "       [0., 0., 0.]])"
      ]
     },
     "execution_count": 4,
     "metadata": {},
     "output_type": "execute_result"
    }
   ],
   "source": [
    "arr - arr"
   ]
  },
  {
   "cell_type": "code",
   "execution_count": 5,
   "id": "cd468e1d",
   "metadata": {},
   "outputs": [
    {
     "data": {
      "text/plain": [
       "array([[1.        , 0.5       , 0.33333333],\n",
       "       [0.25      , 0.2       , 0.16666667]])"
      ]
     },
     "execution_count": 5,
     "metadata": {},
     "output_type": "execute_result"
    }
   ],
   "source": [
    "1 / arr"
   ]
  },
  {
   "cell_type": "code",
   "execution_count": 6,
   "id": "d00a3a91",
   "metadata": {},
   "outputs": [
    {
     "data": {
      "text/plain": [
       "array([[1.        , 1.41421356, 1.73205081],\n",
       "       [2.        , 2.23606798, 2.44948974]])"
      ]
     },
     "execution_count": 6,
     "metadata": {},
     "output_type": "execute_result"
    }
   ],
   "source": [
    "arr ** 0.5"
   ]
  },
  {
   "cell_type": "code",
   "execution_count": 10,
   "id": "1d7e607e",
   "metadata": {},
   "outputs": [
    {
     "data": {
      "text/plain": [
       "array([[2, 3, 4],\n",
       "       [4, 5, 6]])"
      ]
     },
     "execution_count": 10,
     "metadata": {},
     "output_type": "execute_result"
    }
   ],
   "source": [
    "arr2 = np.array([[2, 3, 4], [4, 5, 6]])\n",
    "arr2"
   ]
  },
  {
   "cell_type": "code",
   "execution_count": 12,
   "id": "27f5a8d4",
   "metadata": {},
   "outputs": [
    {
     "data": {
      "text/plain": [
       "array([[False, False, False],\n",
       "       [False, False, False]])"
      ]
     },
     "execution_count": 12,
     "metadata": {},
     "output_type": "execute_result"
    }
   ],
   "source": [
    "arr > arr2"
   ]
  },
  {
   "cell_type": "code",
   "execution_count": 16,
   "id": "aecac18e",
   "metadata": {},
   "outputs": [],
   "source": [
    "x = np.array([2, -3, 4])"
   ]
  },
  {
   "cell_type": "code",
   "execution_count": 17,
   "id": "495fdbbc",
   "metadata": {},
   "outputs": [
    {
     "data": {
      "text/plain": [
       "dtype('int64')"
      ]
     },
     "execution_count": 17,
     "metadata": {},
     "output_type": "execute_result"
    }
   ],
   "source": [
    "x.dtype"
   ]
  },
  {
   "cell_type": "code",
   "execution_count": 19,
   "id": "66994d6f",
   "metadata": {},
   "outputs": [],
   "source": [
    "arr = np.arange(10)"
   ]
  },
  {
   "cell_type": "code",
   "execution_count": 20,
   "id": "7bd7c28e",
   "metadata": {},
   "outputs": [
    {
     "data": {
      "text/plain": [
       "array([0, 1, 2, 3, 4, 5, 6, 7, 8, 9])"
      ]
     },
     "execution_count": 20,
     "metadata": {},
     "output_type": "execute_result"
    }
   ],
   "source": [
    "arr"
   ]
  },
  {
   "cell_type": "code",
   "execution_count": 21,
   "id": "81cd6f49",
   "metadata": {},
   "outputs": [
    {
     "data": {
      "text/plain": [
       "5"
      ]
     },
     "execution_count": 21,
     "metadata": {},
     "output_type": "execute_result"
    }
   ],
   "source": [
    "arr[5]"
   ]
  },
  {
   "cell_type": "raw",
   "id": "8e2931e5",
   "metadata": {},
   "source": []
  },
  {
   "cell_type": "code",
   "execution_count": 22,
   "id": "d6d3eb8a",
   "metadata": {},
   "outputs": [
    {
     "data": {
      "text/plain": [
       "array([5, 6, 7])"
      ]
     },
     "execution_count": 22,
     "metadata": {},
     "output_type": "execute_result"
    }
   ],
   "source": [
    "arr [5 : 8]"
   ]
  },
  {
   "cell_type": "code",
   "execution_count": 23,
   "id": "50f6c8c9",
   "metadata": {},
   "outputs": [],
   "source": [
    "arr [5 : 8 ] = 20"
   ]
  },
  {
   "cell_type": "code",
   "execution_count": 24,
   "id": "94e94462",
   "metadata": {},
   "outputs": [
    {
     "data": {
      "text/plain": [
       "array([ 0,  1,  2,  3,  4, 20, 20, 20,  8,  9])"
      ]
     },
     "execution_count": 24,
     "metadata": {},
     "output_type": "execute_result"
    }
   ],
   "source": [
    "arr"
   ]
  },
  {
   "cell_type": "code",
   "execution_count": 2,
   "id": "4b877988",
   "metadata": {},
   "outputs": [
    {
     "name": "stdout",
     "output_type": "stream",
     "text": [
      "Hello python world!!!\n"
     ]
    }
   ],
   "source": [
    "print(\"Hello python world!!!\")"
   ]
  },
  {
   "cell_type": "code",
   "execution_count": 3,
   "id": "133d0a99",
   "metadata": {},
   "outputs": [
    {
     "name": "stdout",
     "output_type": "stream",
     "text": [
      "Hi everyone, my name is Lilyhuang! \n"
     ]
    }
   ],
   "source": [
    "print(\"Hi everyone, my name is Lilyhuang! \")"
   ]
  },
  {
   "cell_type": "code",
   "execution_count": 4,
   "id": "87442764",
   "metadata": {},
   "outputs": [
    {
     "name": "stdout",
     "output_type": "stream",
     "text": [
      "Hi everyone, my name is Lily Huang! \n"
     ]
    }
   ],
   "source": [
    "print(\"Hi everyone, my name is Lily Huang! \")"
   ]
  },
  {
   "cell_type": "code",
   "execution_count": 4,
   "id": "b8a02c03",
   "metadata": {},
   "outputs": [
    {
     "name": "stdout",
     "output_type": "stream",
     "text": [
      "Enter a number: 7\n",
      "Enter a number: 2\n",
      "Enter a number: bob\n",
      "Invalid input\n",
      "Enter a number: 10\n",
      "Enter a number: 4\n",
      "Enter a number: done\n",
      "Maximum is 10\n",
      "Minimum is 2\n"
     ]
    }
   ],
   "source": [
    "largest = None\n",
    "smallest = None\n",
    "\n",
    "while True:\n",
    "    x = input(\"Enter a number: \")\n",
    "    if x == \"done\":\n",
    "        break\n",
    "    try:\n",
    "        x = int(x)\n",
    "    except:\n",
    "        print(\"Invalid input\")\n",
    "        continue\n",
    "    if smallest is None:\n",
    "        smallest = x\n",
    "    elif x < smallest:\n",
    "        smallest = x\n",
    "\n",
    "    if largest is None:\n",
    "        largest = x\n",
    "    elif largest < x:\n",
    "        largest = x\n",
    "\n",
    "print(\"Maximum is\", largest)\n",
    "print(\"Minimum is\", smallest)"
   ]
  },
  {
   "cell_type": "code",
   "execution_count": null,
   "id": "d043964d",
   "metadata": {},
   "outputs": [],
   "source": []
  }
 ],
 "metadata": {
  "kernelspec": {
   "display_name": "Python 3",
   "language": "python",
   "name": "python3"
  },
  "language_info": {
   "codemirror_mode": {
    "name": "ipython",
    "version": 3
   },
   "file_extension": ".py",
   "mimetype": "text/x-python",
   "name": "python",
   "nbconvert_exporter": "python",
   "pygments_lexer": "ipython3",
   "version": "3.8.8"
  }
 },
 "nbformat": 4,
 "nbformat_minor": 5
}
